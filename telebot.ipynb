{
 "cells": [
  {
   "cell_type": "code",
   "execution_count": null,
   "metadata": {},
   "outputs": [],
   "source": [
    "import telebot \n",
    "from telebot import types\n",
    "import pickle\n",
    "\n",
    "with open('bot.pkl', 'rb') as file:\n",
    "    mymodel = pickle.load(file)\n",
    "\n",
    "bot = telebot.TeleBot('6271099986:AAGqZSf_g-LlIj8K-p-05al31x_dVrPWehU')\n",
    "@bot.message_handler(commands=['start'])\n",
    "def start(message):\n",
    "    mess = f'Hello, <b>{message.from_user.first_name}</b>'\n",
    "    bot.send_message(message.chat.id, mess , parse_mode = 'html')\n",
    "\n",
    "@bot.message_handler(content_types=['text'])\n",
    "def bot_message(message): \n",
    "    if message.text:\n",
    "        if mymodel.predict([message.text]) == 'negative':\n",
    "            bot.send_message(message.chat.id, 'Sorry we are so able to')\n",
    "        else:\n",
    "            bot.send_message(message.chat.id, f'Thank You {message.from_user.first_name} for best review :)')\n",
    "\n",
    "bot.polling(non_stop=True)"
   ]
  }
 ],
 "metadata": {
  "language_info": {
   "name": "python"
  },
  "orig_nbformat": 4
 },
 "nbformat": 4,
 "nbformat_minor": 2
}
